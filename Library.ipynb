{
 "cells": [
  {
   "cell_type": "code",
   "execution_count": 1,
   "metadata": {},
   "outputs": [],
   "source": [
    "import numpy as np\n",
    "import pandas as pd\n",
    "import matplotlib.pyplot as plt\n",
    "%matplotlib inline"
   ]
  },
  {
   "attachments": {},
   "cell_type": "markdown",
   "metadata": {},
   "source": [
    "\"\"\"\n",
    "Linear regression Implementation\n",
    "\n",
    "Creating a Class named linear regression\n",
    "takes input as learning rate and number of iterations\n",
    "cost = (1/2n)*sum(Y-Y_pred)**2\n",
    "cost = (1/2n)*sum(WX+b-Y)**2\n",
    "dJ/dw = (1/n)*sum((WX+b-Y)*(X))\n",
    "dJ/dw = (1/n)*sum(X*(Y_pred-Y))\n",
    "dJ\n",
    "fit function:-\n",
    "\n",
    "\"\"\""
   ]
  },
  {
   "cell_type": "code",
   "execution_count": 1,
   "metadata": {},
   "outputs": [],
   "source": [
    "\n",
    "class LinearRegression:\n",
    "\n",
    "    def __init__(self,learning_rate=0.1,iter=1000):\n",
    "        self.lr = learning_rate\n",
    "        self.iter=iter\n",
    "        self.W = None \n",
    "        self.b = None\n",
    "    \n",
    "    def fit(self,X,Y): #\n",
    "        n_samples=X.shape[0]\n",
    "        n_features = X.shape[1]\n",
    "        self.W = np.randn(X.shape[1])\n",
    "        self.b = 0\n",
    "        for i in range(iter):\n",
    "            self.dJ = np.dot(X,self.W) + self.b - Y\n",
    "            self.w -=(1/n_samples)*self.lr*(np.dot(X.T,self.dJ))\n",
    "            self.b -=(1/n_samples)*self.lr*(np.sum(self.dJ))\n",
    "    def predict(self,X):\n",
    "        Y_pred = np.dot(X,self.W) + self.b\n",
    "        return Y_pred\n",
    "    \n",
    "        \n",
    "    "
   ]
  },
  {
   "cell_type": "code",
   "execution_count": null,
   "metadata": {},
   "outputs": [],
   "source": []
  }
 ],
 "metadata": {
  "kernelspec": {
   "display_name": "Python 3",
   "language": "python",
   "name": "python3"
  },
  "language_info": {
   "codemirror_mode": {
    "name": "ipython",
    "version": 3
   },
   "file_extension": ".py",
   "mimetype": "text/x-python",
   "name": "python",
   "nbconvert_exporter": "python",
   "pygments_lexer": "ipython3",
   "version": "3.10.10"
  },
  "orig_nbformat": 4,
  "vscode": {
   "interpreter": {
    "hash": "7f4ec58e355ec7756ef01d0d1edf3bc883e07c65dfe39f910c1bb24945b8f261"
   }
  }
 },
 "nbformat": 4,
 "nbformat_minor": 2
}
